{
 "cells": [
  {
   "cell_type": "code",
   "execution_count": 63,
   "metadata": {},
   "outputs": [
    {
     "name": "stdout",
     "output_type": "stream",
     "text": [
      "The autoreload extension is already loaded. To reload it, use:\n",
      "  %reload_ext autoreload\n"
     ]
    }
   ],
   "source": [
    "%load_ext autoreload\n",
    "%autoreload 2"
   ]
  },
  {
   "cell_type": "code",
   "execution_count": 64,
   "metadata": {},
   "outputs": [],
   "source": [
    "from av_utilities import convert\n",
    "from VSA_utilities import date_from_int, describe_lens, get_durs, time_rounding\n",
    "from datetime import date\n",
    "import numpy as np\n",
    "import os\n",
    "import pandas as pd"
   ]
  },
  {
   "cell_type": "code",
   "execution_count": 65,
   "metadata": {
    "collapsed": true
   },
   "outputs": [],
   "source": [
    "out_path = '/Volumes/Voice Sample Data/audio_only'\n",
    "unarchived_mri = \"/Volumes/Data/Research/Healthy Brain Network/Voice Sample Data/Post-MRI Audio Video\"\n",
    "storages = {unarchived_mri, \"/Volumes/Voice Sample Data\"}\n",
    "usable_table = pd.read_excel(\"AV participant list_112017.xlsx\")\n",
    "usable_table[\"Date of recording\"] = usable_table[\"date_recorded\"].apply(date_from_int)\n",
    "usable_ids = list(usable_table['RandID'])"
   ]
  },
  {
   "cell_type": "code",
   "execution_count": null,
   "metadata": {},
   "outputs": [],
   "source": [
    "all_mxfs = set()\n",
    "for storage in storages:\n",
    "    all_mxfs = all_mxfs | {\n",
    "        mxf for mxf in convert.collect_extension(\n",
    "            storage,\n",
    "            \"mxf\"\n",
    "        )\n",
    "    }"
   ]
  },
  {
   "cell_type": "code",
   "execution_count": null,
   "metadata": {},
   "outputs": [],
   "source": [
    "ids = list({mxf for mxf in all_mxfs if int(\n",
    "    os.path.basename(mxf)[:7]\n",
    ") in usable_ids})\n",
    "for fp in ids:\n",
    "    convert.convert(fp, 'mxf', 'mp3', out_path)"
   ]
  }
 ],
 "metadata": {
  "kernelspec": {
   "display_name": "Python 3",
   "language": "python",
   "name": "python3"
  }
 },
 "nbformat": 4,
 "nbformat_minor": 2
}
