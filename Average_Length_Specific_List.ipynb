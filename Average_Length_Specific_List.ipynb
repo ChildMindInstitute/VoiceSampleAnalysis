{
 "cells": [
  {
   "cell_type": "code",
   "execution_count": 1,
   "metadata": {
    "collapsed": true
   },
   "outputs": [],
   "source": [
    "%load_ext autoreload\n",
    "%autoreload 2"
   ]
  },
  {
   "cell_type": "code",
   "execution_count": 71,
   "metadata": {},
   "outputs": [],
   "source": [
    "from VSA_utilities import date_from_int, describe_lens, get_durs, time_rounding\n",
    "from datetime import date, datetime\n",
    "import numpy as np\n",
    "import os\n",
    "import pandas as pd"
   ]
  },
  {
   "cell_type": "code",
   "execution_count": 3,
   "metadata": {
    "collapsed": true
   },
   "outputs": [],
   "source": [
    "file_dir = \"/Volumes/Data/Research/Healthy Brain Network/Voice Sample Data/Post-MRI Audio Video/Speech and Language tasks\""
   ]
  },
  {
   "cell_type": "code",
   "execution_count": 4,
   "metadata": {
    "collapsed": true
   },
   "outputs": [],
   "source": [
    "file_list = [\n",
    "    \"5891600_speech_language.MXF\",\n",
    "    \"5814252_speech_language.MXF\",\n",
    "    \"5570071_speech_language.MXF\",\n",
    "    \"5477314_speech_language.MXF\",\n",
    "    \"5394357_speech_language.MXF\",\n",
    "    \"5033713_speech_language.MXF\",\n",
    "    \"5023141_speech_language.MXF\"\n",
    "]"
   ]
  },
  {
   "cell_type": "code",
   "execution_count": 28,
   "metadata": {},
   "outputs": [],
   "source": [
    "usable = pd.DataFrame({\n",
    "    \"RandID\": [int(f[:7]) for f in file_list],\n",
    "    \"Date of recording\": [date.fromtimestamp(\n",
    "        os.stat(\n",
    "            os.path.join(\n",
    "                file_dir,\n",
    "                f\n",
    "            )\n",
    "        ).st_birthtime\n",
    "    ) for f in file_list]\n",
    "})"
   ]
  },
  {
   "cell_type": "code",
   "execution_count": 29,
   "metadata": {},
   "outputs": [
    {
     "data": {
      "text/html": [
       "<div>\n",
       "<style>\n",
       "    .dataframe thead tr:only-child th {\n",
       "        text-align: right;\n",
       "    }\n",
       "\n",
       "    .dataframe thead th {\n",
       "        text-align: left;\n",
       "    }\n",
       "\n",
       "    .dataframe tbody tr th {\n",
       "        vertical-align: top;\n",
       "    }\n",
       "</style>\n",
       "<table border=\"1\" class=\"dataframe\">\n",
       "  <thead>\n",
       "    <tr style=\"text-align: right;\">\n",
       "      <th></th>\n",
       "      <th>Date of recording</th>\n",
       "      <th>RandID</th>\n",
       "    </tr>\n",
       "  </thead>\n",
       "  <tbody>\n",
       "    <tr>\n",
       "      <th>0</th>\n",
       "      <td>2018-01-04</td>\n",
       "      <td>5891600</td>\n",
       "    </tr>\n",
       "    <tr>\n",
       "      <th>1</th>\n",
       "      <td>2018-01-04</td>\n",
       "      <td>5814252</td>\n",
       "    </tr>\n",
       "    <tr>\n",
       "      <th>2</th>\n",
       "      <td>2017-12-29</td>\n",
       "      <td>5570071</td>\n",
       "    </tr>\n",
       "    <tr>\n",
       "      <th>3</th>\n",
       "      <td>2017-12-29</td>\n",
       "      <td>5477314</td>\n",
       "    </tr>\n",
       "    <tr>\n",
       "      <th>4</th>\n",
       "      <td>2018-01-03</td>\n",
       "      <td>5394357</td>\n",
       "    </tr>\n",
       "    <tr>\n",
       "      <th>5</th>\n",
       "      <td>2017-12-29</td>\n",
       "      <td>5033713</td>\n",
       "    </tr>\n",
       "    <tr>\n",
       "      <th>6</th>\n",
       "      <td>2018-01-04</td>\n",
       "      <td>5023141</td>\n",
       "    </tr>\n",
       "  </tbody>\n",
       "</table>\n",
       "</div>"
      ],
      "text/plain": [
       "  Date of recording   RandID\n",
       "0        2018-01-04  5891600\n",
       "1        2018-01-04  5814252\n",
       "2        2017-12-29  5570071\n",
       "3        2017-12-29  5477314\n",
       "4        2018-01-03  5394357\n",
       "5        2017-12-29  5033713\n",
       "6        2018-01-04  5023141"
      ]
     },
     "execution_count": 29,
     "metadata": {},
     "output_type": "execute_result"
    }
   ],
   "source": [
    "usable"
   ]
  },
  {
   "cell_type": "code",
   "execution_count": 72,
   "metadata": {},
   "outputs": [
    {
     "name": "stdout",
     "output_type": "stream",
     "text": [
      "… Loading 5023141_speech_language.MXF\n",
      "… Loading 5033713_speech_language.MXF\n",
      "… Loading 5121688_speech_language.MXF\n",
      "… Loading 5170698_speech_language.MXF\n",
      "… Loading 5195387_speech_language.MXF\n",
      "… Loading 5206487_speech_language.MXF\n",
      "… Loading 5282300_diad.MXF\n",
      "… Loading 5282300_maxphon.MXF\n",
      "… Loading 5282300_nonword.MXF\n",
      "… Loading 5282300_passages.MXF\n",
      "… Loading 5282300_pitch.MXF\n",
      "… Loading 5282300_SZratio.MXF\n",
      "… Loading 5282300_wordrep.MXF\n",
      "… Loading 5317742_MRI_speech_language.MXF\n",
      "… Loading 5319833_diad_wordrep.MXF\n",
      "… Loading 5319833_nonword.MXF\n",
      "… Loading 5319833_passages.MXF\n",
      "… Loading 5319833_voice.MXF\n",
      "… Loading 5358692_diad.MXF\n",
      "… Loading 5358692_nonword.MXF\n",
      "… Loading 5358692_passages.MXF\n",
      "… Loading 5358692_voice.MXF\n",
      "… Loading 5358692_wordrep.MXF\n",
      "… Loading 5394357_speech_language.MXF\n",
      "… Loading 5450456_speech_language.MXF\n",
      "… Loading 5477314_speech_language.MXF\n",
      "… Loading 5570071_speech_language.MXF\n",
      "… Loading 5708606_speech_language.MXF\n",
      "… Loading 5814252_speech_language.MXF\n",
      "… Loading 5891600_speech_language.MXF\n",
      "Could not save {'5023141': (datetime.datetime(2018, 1, 4, 13, 46, 32), 728.1274), '5033713': (datetime.datetime(2017, 12, 29, 15, 33), 748.1474), '5121688': (datetime.datetime(2018, 1, 5, 17, 27, 26), 1295.894604), '5170698': (datetime.datetime(2018, 1, 5, 17, 47, 36), 870.469604), '5195387': (datetime.datetime(2018, 1, 5, 15, 39, 57), 906.505604), '5206487': (datetime.datetime(2018, 1, 5, 15, 12, 19), 720.5198), '5282300': (datetime.datetime(2018, 1, 3, 11, 2, 33), 1137.7366319999999), '5317742': (datetime.datetime(2018, 1, 5, 14, 30, 59), 739.5388), '5319833': (datetime.datetime(2017, 12, 29, 17, 23, 15), 760.1594), '5358692': (datetime.datetime(2017, 12, 29, 18, 17, 53), 910.1092040000001), '5394357': (datetime.datetime(2018, 1, 3, 12, 13, 22), 758.958208), '5450456': (datetime.datetime(2018, 1, 5, 16, 7, 20), 1005.4044), '5477314': (datetime.datetime(2017, 12, 29, 15, 16, 56), 706.5058), '5570071': (datetime.datetime(2017, 12, 29, 17, 6, 38), 784.1834), '5708606': (datetime.datetime(2018, 1, 5, 15, 51, 55), 1066.065), '5814252': (datetime.datetime(2018, 1, 4, 13, 56, 14), 1052.651604), '5891600': (datetime.datetime(2018, 1, 4, 14, 13, 38), 1221.820604)} as /Volumes/Data/Research/Healthy Brain Network/Voice Sample Data/Post-MRI Audio Video/Speech and Language tasks/Speech and Language tasks_2018-01-08.csv\n",
      "/Volumes/Data/Research/Healthy Brain Network/Voice Sample Data/Post-MRI Audio Video/Speech and Language tasks: mean≈15.1 minutes (15′6″), median≈14.5 minutes (14′30″), n=17, min≈11.8 minutes (11′46″), max≈21.6 minutes (21′35″), total≈4.28 hours (256′52″)\n",
      "…\t(usable): /Volumes/Data/Research/Healthy Brain Network/Voice Sample Data/Post-MRI Audio Video/Speech and Language tasks: mean≈14.3 minutes (14′17″), median≈12.6 minutes (12′38″), n=7, min≈11.8 minutes (11′46″), max≈20.4 minutes (20′21″), total≈100. minutes (100′0″)\n"
     ]
    }
   ],
   "source": [
    "dur_dict = get_durs(file_dir, usable)"
   ]
  },
  {
   "cell_type": "code",
   "execution_count": 73,
   "metadata": {},
   "outputs": [
    {
     "data": {
      "text/plain": [
       "([(5023141, datetime.datetime(2018, 1, 4, 13, 46, 32), 728.1274),\n",
       "  (5033713, datetime.datetime(2017, 12, 29, 15, 33), 748.1474),\n",
       "  (5394357, datetime.datetime(2018, 1, 3, 12, 13, 22), 758.958208),\n",
       "  (5477314, datetime.datetime(2017, 12, 29, 15, 16, 56), 706.5058),\n",
       "  (5570071, datetime.datetime(2017, 12, 29, 17, 6, 38), 784.1834),\n",
       "  (5814252, datetime.datetime(2018, 1, 4, 13, 56, 14), 1052.651604),\n",
       "  (5891600, datetime.datetime(2018, 1, 4, 14, 13, 38), 1221.820604)],\n",
       " [(5023141, datetime.datetime(2018, 1, 4, 13, 46, 32), 728.1274),\n",
       "  (5033713, datetime.datetime(2017, 12, 29, 15, 33), 748.1474),\n",
       "  (5121688, datetime.datetime(2018, 1, 5, 17, 27, 26), 1295.894604),\n",
       "  (5170698, datetime.datetime(2018, 1, 5, 17, 47, 36), 870.469604),\n",
       "  (5195387, datetime.datetime(2018, 1, 5, 15, 39, 57), 906.505604),\n",
       "  (5206487, datetime.datetime(2018, 1, 5, 15, 12, 19), 720.5198),\n",
       "  (5282300, datetime.datetime(2018, 1, 3, 10, 41, 40), 100.300208),\n",
       "  (5282300, datetime.datetime(2017, 12, 29, 18, 23, 45), 99.299208),\n",
       "  (5282300, datetime.datetime(2018, 1, 3, 10, 57, 8), 77.277208),\n",
       "  (5282300, datetime.datetime(2018, 1, 3, 11, 2, 33), 600.199604),\n",
       "  (5282300, datetime.datetime(2017, 12, 29, 18, 25, 29), 92.092),\n",
       "  (5282300, datetime.datetime(2018, 1, 3, 10, 35, 29), 126.726604),\n",
       "  (5282300, datetime.datetime(2018, 1, 3, 10, 48, 18), 41.8418),\n",
       "  (5317742, datetime.datetime(2018, 1, 5, 14, 30, 59), 739.5388),\n",
       "  (5319833, datetime.datetime(2017, 12, 29, 17, 13, 31), 157.9578),\n",
       "  (5319833, datetime.datetime(2017, 12, 29, 17, 16, 5), 68.068),\n",
       "  (5319833, datetime.datetime(2017, 12, 29, 17, 23, 15), 286.0858),\n",
       "  (5319833, datetime.datetime(2017, 12, 29, 17, 10, 24), 248.0478),\n",
       "  (5358692, datetime.datetime(2017, 12, 29, 18, 8, 19), 135.5354),\n",
       "  (5358692, datetime.datetime(2017, 12, 29, 18, 16, 2), 135.9358),\n",
       "  (5358692, datetime.datetime(2017, 12, 29, 18, 17, 53), 294.294),\n",
       "  (5358692, datetime.datetime(2017, 12, 29, 18, 3, 48), 266.866604),\n",
       "  (5358692, datetime.datetime(2017, 12, 29, 18, 14, 37), 77.4774),\n",
       "  (5394357, datetime.datetime(2018, 1, 3, 12, 13, 22), 758.958208),\n",
       "  (5450456, datetime.datetime(2018, 1, 5, 16, 7, 20), 1005.4044),\n",
       "  (5477314, datetime.datetime(2017, 12, 29, 15, 16, 56), 706.5058),\n",
       "  (5570071, datetime.datetime(2017, 12, 29, 17, 6, 38), 784.1834),\n",
       "  (5708606, datetime.datetime(2018, 1, 5, 15, 51, 55), 1066.065),\n",
       "  (5814252, datetime.datetime(2018, 1, 4, 13, 56, 14), 1052.651604),\n",
       "  (5891600, datetime.datetime(2018, 1, 4, 14, 13, 38), 1221.820604)],\n",
       " {'5023141': (datetime.datetime(2018, 1, 4, 13, 46, 32), 728.1274),\n",
       "  '5033713': (datetime.datetime(2017, 12, 29, 15, 33), 748.1474),\n",
       "  '5121688': (datetime.datetime(2018, 1, 5, 17, 27, 26), 1295.894604),\n",
       "  '5170698': (datetime.datetime(2018, 1, 5, 17, 47, 36), 870.469604),\n",
       "  '5195387': (datetime.datetime(2018, 1, 5, 15, 39, 57), 906.505604),\n",
       "  '5206487': (datetime.datetime(2018, 1, 5, 15, 12, 19), 720.5198),\n",
       "  '5282300': (datetime.datetime(2018, 1, 3, 11, 2, 33), 1137.7366319999999),\n",
       "  '5317742': (datetime.datetime(2018, 1, 5, 14, 30, 59), 739.5388),\n",
       "  '5319833': (datetime.datetime(2017, 12, 29, 17, 23, 15), 760.1594),\n",
       "  '5358692': (datetime.datetime(2017, 12, 29, 18, 17, 53), 910.1092040000001),\n",
       "  '5394357': (datetime.datetime(2018, 1, 3, 12, 13, 22), 758.958208),\n",
       "  '5450456': (datetime.datetime(2018, 1, 5, 16, 7, 20), 1005.4044),\n",
       "  '5477314': (datetime.datetime(2017, 12, 29, 15, 16, 56), 706.5058),\n",
       "  '5570071': (datetime.datetime(2017, 12, 29, 17, 6, 38), 784.1834),\n",
       "  '5708606': (datetime.datetime(2018, 1, 5, 15, 51, 55), 1066.065),\n",
       "  '5814252': (datetime.datetime(2018, 1, 4, 13, 56, 14), 1052.651604),\n",
       "  '5891600': (datetime.datetime(2018, 1, 4, 14, 13, 38), 1221.820604)},\n",
       " '/Volumes/Data/Research/Healthy Brain Network/Voice Sample Data/Post-MRI Audio Video/Speech and Language tasks: mean≈15.1 minutes (15′6″), median≈14.5 minutes (14′30″), n=17, min≈11.8 minutes (11′46″), max≈21.6 minutes (21′35″), total≈4.28 hours (256′52″)\\n…\\t(usable): /Volumes/Data/Research/Healthy Brain Network/Voice Sample Data/Post-MRI Audio Video/Speech and Language tasks: mean≈14.3 minutes (14′17″), median≈12.6 minutes (12′38″), n=7, min≈11.8 minutes (11′46″), max≈20.4 minutes (20′21″), total≈100. minutes (100′0″)')"
      ]
     },
     "execution_count": 73,
     "metadata": {},
     "output_type": "execute_result"
    }
   ],
   "source": [
    "dur_dict"
   ]
  },
  {
   "cell_type": "code",
   "execution_count": 57,
   "metadata": {},
   "outputs": [
    {
     "data": {
      "text/plain": [
       "100.300208"
      ]
     },
     "execution_count": 57,
     "metadata": {},
     "output_type": "execute_result"
    }
   ],
   "source": []
  },
  {
   "cell_type": "code",
   "execution_count": null,
   "metadata": {
    "collapsed": true
   },
   "outputs": [],
   "source": []
  }
 ],
 "metadata": {
  "kernelspec": {
   "display_name": "Python 3",
   "language": "python",
   "name": "python3"
  },
  "language_info": {
   "codemirror_mode": {
    "name": "ipython",
    "version": 3
   },
   "file_extension": ".py",
   "mimetype": "text/x-python",
   "name": "python",
   "nbconvert_exporter": "python",
   "pygments_lexer": "ipython3",
   "version": "3.6.3"
  }
 },
 "nbformat": 4,
 "nbformat_minor": 2
}
